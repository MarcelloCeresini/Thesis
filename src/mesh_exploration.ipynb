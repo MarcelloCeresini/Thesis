{
 "cells": [
  {
   "cell_type": "code",
   "execution_count": 1,
   "metadata": {},
   "outputs": [
    {
     "name": "stdout",
     "output_type": "stream",
     "text": [
      "Mesh name: /Users/marcelloceresini/github/Thesis/data/initial_exploration/profilo_end.msh\n",
      "Mesh version: 4.1\n",
      "Number of nodes: 0\n",
      "Minimum node tag: 0\n",
      "Maximum node tag: 0\n",
      "Number of node entities: 0\n",
      "Number of elements: 0\n",
      "Minimum element tag: 0\n",
      "Maximum element tag: 0\n",
      "Number of element entities: 0\n"
     ]
    }
   ],
   "source": [
    "import os\n",
    "\n",
    "import gmshparser\n",
    "\n",
    "from config_pckg.config_file import Config\n",
    "conf = Config()\n",
    "filepath = os.path.join(conf.DATA_DIR, \"initial_exploration\", \"profilo_end.msh\")\n",
    "\n",
    "mesh = gmshparser.parse(filename=filepath)\n",
    "print(mesh)\n"
   ]
  },
  {
   "cell_type": "code",
   "execution_count": 5,
   "metadata": {},
   "outputs": [
    {
     "name": "stdout",
     "output_type": "stream",
     "text": [
      "\n",
      "\n"
     ]
    },
    {
     "data": {
      "text/html": [
       "<pre style=\"white-space:pre;overflow-x:auto;line-height:normal;font-family:Menlo,'DejaVu Sans Mono',consolas,'Courier New',monospace\"><span style=\"color: #800000; text-decoration-color: #800000; font-weight: bold\">Error:</span><span style=\"color: #800000; text-decoration-color: #800000\"> Couldn't read file /Users/marcelloceresini/github/Thesis/data/initial_exploration/profilo_end.msh as either </span>\n",
       "<span style=\"color: #800000; text-decoration-color: #800000\">of ansys, gmsh</span>\n",
       "</pre>\n"
      ],
      "text/plain": [
       "\u001b[1;31mError:\u001b[0m\u001b[31m Couldn't read file \u001b[0m\u001b[31m/Users/marcelloceresini/github/Thesis/data/initial_exploration/\u001b[0m\u001b[31mprofilo_end.msh\u001b[0m\u001b[31m as either \u001b[0m\n",
       "\u001b[31mof ansys, gmsh\u001b[0m\n"
      ]
     },
     "metadata": {},
     "output_type": "display_data"
    },
    {
     "ename": "SystemExit",
     "evalue": "1",
     "output_type": "error",
     "traceback": [
      "An exception has occurred, use %tb to see the full traceback.\n",
      "\u001b[0;31mSystemExit\u001b[0m\u001b[0;31m:\u001b[0m 1\n"
     ]
    },
    {
     "name": "stderr",
     "output_type": "stream",
     "text": [
      "/Users/marcelloceresini/github/Thesis/env_Thesis/lib/python3.11/site-packages/IPython/core/interactiveshell.py:3558: UserWarning: To exit: use 'exit', 'quit', or Ctrl-D.\n",
      "  warn(\"To exit: use 'exit', 'quit', or Ctrl-D.\", stacklevel=1)\n"
     ]
    }
   ],
   "source": [
    "import meshio\n",
    "\n",
    "mesh = meshio.read(filename=filepath)"
   ]
  },
  {
   "cell_type": "code",
   "execution_count": null,
   "metadata": {},
   "outputs": [],
   "source": []
  }
 ],
 "metadata": {
  "kernelspec": {
   "display_name": "env_Thesis",
   "language": "python",
   "name": "python3"
  },
  "language_info": {
   "codemirror_mode": {
    "name": "ipython",
    "version": 3
   },
   "file_extension": ".py",
   "mimetype": "text/x-python",
   "name": "python",
   "nbconvert_exporter": "python",
   "pygments_lexer": "ipython3",
   "version": "3.11.4"
  }
 },
 "nbformat": 4,
 "nbformat_minor": 2
}
